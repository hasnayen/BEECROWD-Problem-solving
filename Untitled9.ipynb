{
  "nbformat": 4,
  "nbformat_minor": 0,
  "metadata": {
    "colab": {
      "provenance": [],
      "authorship_tag": "ABX9TyMsVJ9OkKH7ZDKAk9e5AS+j",
      "include_colab_link": true
    },
    "kernelspec": {
      "name": "python3",
      "display_name": "Python 3"
    },
    "language_info": {
      "name": "python"
    }
  },
  "cells": [
    {
      "cell_type": "markdown",
      "metadata": {
        "id": "view-in-github",
        "colab_type": "text"
      },
      "source": [
        "<a href=\"https://colab.research.google.com/github/hasnayen/BEECROWD-Problem-solving/blob/main/Untitled9.ipynb\" target=\"_parent\"><img src=\"https://colab.research.google.com/assets/colab-badge.svg\" alt=\"Open In Colab\"/></a>"
      ]
    },
    {
      "cell_type": "code",
      "execution_count": 16,
      "metadata": {
        "id": "_jQHK8J2ayqi"
      },
      "outputs": [],
      "source": [
        "import pandas as pd\n",
        "import numpy as np\n",
        "from numpy import NaN"
      ]
    },
    {
      "cell_type": "markdown",
      "source": [],
      "metadata": {
        "id": "JFgtDKCTcuD_"
      }
    },
    {
      "cell_type": "code",
      "source": [
        "data = [[21, 10,NaN, 46], [NaN,32,NaN,47], [22, 33, NaN, NaN], [4, 34, NaN,48], [NaN,35,NaN,49]]\n",
        "df = pd.DataFrame(data, columns=['A', 'B', 'C', 'D'])\n",
        "print(df)"
      ],
      "metadata": {
        "colab": {
          "base_uri": "https://localhost:8080/"
        },
        "id": "z3gmd0I_a3mW",
        "outputId": "90c1c4fd-964c-4254-e27f-bd2dd7e817d7"
      },
      "execution_count": 17,
      "outputs": [
        {
          "output_type": "stream",
          "name": "stdout",
          "text": [
            "      A   B   C     D\n",
            "0  21.0  10 NaN  46.0\n",
            "1   NaN  32 NaN  47.0\n",
            "2  22.0  33 NaN   NaN\n",
            "3   4.0  34 NaN  48.0\n",
            "4   NaN  35 NaN  49.0\n"
          ]
        }
      ]
    },
    {
      "cell_type": "code",
      "source": [
        "df1 = df.isnull()\n",
        "print(df1)"
      ],
      "metadata": {
        "colab": {
          "base_uri": "https://localhost:8080/"
        },
        "id": "CyDrlITSdUHG",
        "outputId": "b2c8abe6-edca-46fd-cc7c-963c02775c00"
      },
      "execution_count": 19,
      "outputs": [
        {
          "output_type": "stream",
          "name": "stdout",
          "text": [
            "       A      B     C      D\n",
            "0  False  False  True  False\n",
            "1   True  False  True  False\n",
            "2  False  False  True   True\n",
            "3  False  False  True  False\n",
            "4   True  False  True  False\n"
          ]
        }
      ]
    },
    {
      "cell_type": "code",
      "source": [
        "null_count = df.isnull().sum()\n",
        "print(null_count)"
      ],
      "metadata": {
        "colab": {
          "base_uri": "https://localhost:8080/"
        },
        "id": "yulOTrA2gToR",
        "outputId": "4851f202-ef60-46c3-8b33-13d8da566e20"
      },
      "execution_count": 24,
      "outputs": [
        {
          "output_type": "stream",
          "name": "stdout",
          "text": [
            "A    2\n",
            "B    0\n",
            "C    5\n",
            "D    1\n",
            "dtype: int64\n"
          ]
        }
      ]
    },
    {
      "cell_type": "code",
      "source": [
        "df2 = df.fillna(method='ffill')\n",
        "print(df2)"
      ],
      "metadata": {
        "colab": {
          "base_uri": "https://localhost:8080/"
        },
        "id": "3_6Yu8nQeQlh",
        "outputId": "23a28190-6a5e-41cc-a338-eddbbdb0a032"
      },
      "execution_count": 20,
      "outputs": [
        {
          "output_type": "stream",
          "name": "stdout",
          "text": [
            "      A   B   C     D\n",
            "0  21.0  10 NaN  46.0\n",
            "1  21.0  32 NaN  47.0\n",
            "2  22.0  33 NaN  47.0\n",
            "3   4.0  34 NaN  48.0\n",
            "4   4.0  35 NaN  49.0\n"
          ]
        },
        {
          "output_type": "stream",
          "name": "stderr",
          "text": [
            "<ipython-input-20-acac6f722f35>:1: FutureWarning: DataFrame.fillna with 'method' is deprecated and will raise in a future version. Use obj.ffill() or obj.bfill() instead.\n",
            "  df2 = df.fillna(method='ffill')\n"
          ]
        }
      ]
    },
    {
      "cell_type": "code",
      "source": [
        "df3 = df.fillna(method='bfill')\n",
        "print(df3)"
      ],
      "metadata": {
        "colab": {
          "base_uri": "https://localhost:8080/"
        },
        "id": "cuHhPzpafyST",
        "outputId": "cd250261-6237-494c-fcd6-a6dce1c3555e"
      },
      "execution_count": 21,
      "outputs": [
        {
          "output_type": "stream",
          "name": "stdout",
          "text": [
            "      A   B   C     D\n",
            "0  21.0  10 NaN  46.0\n",
            "1  22.0  32 NaN  47.0\n",
            "2  22.0  33 NaN  48.0\n",
            "3   4.0  34 NaN  48.0\n",
            "4   NaN  35 NaN  49.0\n"
          ]
        },
        {
          "output_type": "stream",
          "name": "stderr",
          "text": [
            "<ipython-input-21-24fb58e84dfc>:1: FutureWarning: DataFrame.fillna with 'method' is deprecated and will raise in a future version. Use obj.ffill() or obj.bfill() instead.\n",
            "  df3 = df.fillna(method='bfill')\n"
          ]
        }
      ]
    },
    {
      "cell_type": "code",
      "source": [
        "df4 = df.fillna(0)\n",
        "print(df4)"
      ],
      "metadata": {
        "colab": {
          "base_uri": "https://localhost:8080/"
        },
        "id": "sBSZjLmtf64p",
        "outputId": "291ee0d5-e564-4c62-9294-a5f2f42b8dfe"
      },
      "execution_count": 22,
      "outputs": [
        {
          "output_type": "stream",
          "name": "stdout",
          "text": [
            "      A   B    C     D\n",
            "0  21.0  10  0.0  46.0\n",
            "1   0.0  32  0.0  47.0\n",
            "2  22.0  33  0.0   0.0\n",
            "3   4.0  34  0.0  48.0\n",
            "4   0.0  35  0.0  49.0\n"
          ]
        }
      ]
    }
  ]
}